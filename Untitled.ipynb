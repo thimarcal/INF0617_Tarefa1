{
 "cells": [
  {
   "cell_type": "code",
   "execution_count": 1,
   "metadata": {},
   "outputs": [
    {
     "name": "stdout",
     "output_type": "stream",
     "text": [
      "Nothing in queue\n",
      "Produced 44\n",
      "Consumed 44\n",
      "Produced 8\n",
      "Consumed 8\n",
      "Nothing in queue\n",
      "Produced 43\n",
      "Consumed 43\n",
      "Nothing in queue\n",
      "Produced 37\n",
      "Consumed 37\n",
      "Produced 8\n",
      "Consumed 8\n"
     ]
    }
   ],
   "source": [
    "import time\n",
    "import random\n",
    "from threading import Thread, Condition\n",
    "\n",
    "\n",
    "queue = []\n",
    "condition = Condition()\n",
    "MAX_ITERATIONS = 5\n",
    "\n",
    "class ProducerThread(Thread):\n",
    "    def run(self):\n",
    "        global queue\n",
    "        reps = 0\n",
    "        while (reps < MAX_ITERATIONS):\n",
    "            num = random.randint(1, 50)\n",
    "            time.sleep(random.randint(1, 5))\n",
    "            condition.acquire()\n",
    "            queue.append(num)\n",
    "            print(\"Produced\", num)\n",
    "            condition.notify()\n",
    "            condition.release()\n",
    "            reps = reps+1\n",
    "\n",
    "class ConsumerThread(Thread):\n",
    "    def run(self):\n",
    "        global queue\n",
    "        reps = 0\n",
    "        while (reps < MAX_ITERATIONS):\n",
    "            condition.acquire()\n",
    "            while not queue:\n",
    "                print(\"Nothing in queue\")\n",
    "                condition.wait()\n",
    "            num = queue.pop(0)\n",
    "            print(\"Consumed\", num)\n",
    "            condition.release()\n",
    "            time.sleep(random.randint(1, 5))\n",
    "            reps = reps + 1\n",
    "\n",
    "p = ProducerThread()\n",
    "c = ConsumerThread()\n",
    "p.start()\n",
    "c.start()\n",
    "p.join()\n",
    "c.join()\n"
   ]
  },
  {
   "cell_type": "code",
   "execution_count": null,
   "metadata": {},
   "outputs": [],
   "source": []
  }
 ],
 "metadata": {
  "kernelspec": {
   "display_name": "Python 3",
   "language": "python",
   "name": "python3"
  },
  "language_info": {
   "codemirror_mode": {
    "name": "ipython",
    "version": 3
   },
   "file_extension": ".py",
   "mimetype": "text/x-python",
   "name": "python",
   "nbconvert_exporter": "python",
   "pygments_lexer": "ipython3",
   "version": "3.6.5"
  }
 },
 "nbformat": 4,
 "nbformat_minor": 2
}
