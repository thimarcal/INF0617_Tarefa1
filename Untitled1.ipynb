{
 "cells": [
  {
   "cell_type": "code",
   "execution_count": 1,
   "metadata": {},
   "outputs": [
    {
     "name": "stdout",
     "output_type": "stream",
     "text": [
      "Produced 45\n",
      "Consumed 45\n",
      "Produced 42\n",
      "Consumed 42\n",
      "Produced 24\n",
      "Consumed 24\n",
      "Produced 25\n",
      "Consumed 25\n",
      "Produced 30\n",
      "Consumed 30\n"
     ]
    }
   ],
   "source": [
    "import time\n",
    "import random\n",
    "from multiprocessing import Process, Queue\n",
    "\n",
    "q = Queue()\n",
    "MAX_ITERATIONS = 5\n",
    "\n",
    "def producer(conn) :\n",
    "    reps = 0\n",
    "    while (reps < MAX_ITERATIONS):\n",
    "        num = random.randint(1, 50)\n",
    "        time.sleep(random.randint(1, 5))\n",
    "        conn.put(num)\n",
    "        print(\"Produced\", num)\n",
    "        reps = reps+1\n",
    "\n",
    "def consumer(conn) :\n",
    "    reps = 0\n",
    "    while (reps < MAX_ITERATIONS):\n",
    "        num = conn.get()\n",
    "        print(\"Consumed\", num)\n",
    "        time.sleep(random.randint(1, 5))\n",
    "        reps = reps+1\n",
    "\n",
    "prod = Process(target=producer, args=(q,))\n",
    "cons = Process(target=consumer, args=(q,))\n",
    "\n",
    "prod.start()\n",
    "cons.start()\n",
    "prod.join()\n",
    "cons.join()\n",
    "\n",
    "\n",
    "\n",
    "\n",
    "\n"
   ]
  },
  {
   "cell_type": "code",
   "execution_count": null,
   "metadata": {},
   "outputs": [],
   "source": []
  }
 ],
 "metadata": {
  "kernelspec": {
   "display_name": "Python 3",
   "language": "python",
   "name": "python3"
  },
  "language_info": {
   "codemirror_mode": {
    "name": "ipython",
    "version": 3
   },
   "file_extension": ".py",
   "mimetype": "text/x-python",
   "name": "python",
   "nbconvert_exporter": "python",
   "pygments_lexer": "ipython3",
   "version": "3.6.5"
  }
 },
 "nbformat": 4,
 "nbformat_minor": 2
}
